{
 "cells": [
  {
   "cell_type": "code",
   "execution_count": null,
   "metadata": {},
   "outputs": [],
   "source": [
    "import zmq\n",
    "\n",
    "context = zmq.Context()\n",
    "\n",
    "receive = context.socket(zmq.PULL)\n",
    "receive.bind('tcp://127.0.0.1:5555')\n",
    "\n",
    "sender = context.socket(zmq.PUB)\n",
    "sender.bind('tcp://127.0.0.1:5557')\n",
    "\n",
    "while True:\n",
    "    data = receive.recv()\n",
    "    print(\"worker 5555 to 5557...\")\n",
    "    sender.send(data)"
   ]
  }
 ],
 "metadata": {
  "kernelspec": {
   "display_name": "pytorch",
   "language": "python",
   "name": "python3"
  },
  "language_info": {
   "codemirror_mode": {
    "name": "ipython",
    "version": 3
   },
   "file_extension": ".py",
   "mimetype": "text/x-python",
   "name": "python",
   "nbconvert_exporter": "python",
   "pygments_lexer": "ipython3",
   "version": "3.9.15 (main, Nov 24 2022, 14:31:59) \n[GCC 11.2.0]"
  },
  "orig_nbformat": 4,
  "vscode": {
   "interpreter": {
    "hash": "4b0dbe1b07185a6eafaf1538bd46126864bdf1bd48bd105faa30cc0e9f3a865f"
   }
  }
 },
 "nbformat": 4,
 "nbformat_minor": 2
}
