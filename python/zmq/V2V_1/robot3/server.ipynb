{
 "cells": [
  {
   "cell_type": "code",
   "execution_count": null,
   "metadata": {},
   "outputs": [],
   "source": [
    "import zmq\n",
    "import time\n",
    "\n",
    "context = zmq.Context()\n",
    "socket = context.socket(zmq.PUSH)\n",
    "socket.connect(\"tcp://127.0.0.1:5555\")\n",
    "\n",
    "while True:\n",
    "    msg = \"robot_3_to_5555\".strip()\n",
    "    socket.send(msg.encode('utf-8'))\n",
    "    print(\"已发送\", msg)\n",
    "    time.sleep(1)"
   ]
  }
 ],
 "metadata": {
  "kernelspec": {
   "display_name": "pytorch",
   "language": "python",
   "name": "python3"
  },
  "language_info": {
   "codemirror_mode": {
    "name": "ipython",
    "version": 3
   },
   "file_extension": ".py",
   "mimetype": "text/x-python",
   "name": "python",
   "nbconvert_exporter": "python",
   "pygments_lexer": "ipython3",
   "version": "3.9.15"
  },
  "orig_nbformat": 4,
  "vscode": {
   "interpreter": {
    "hash": "4b0dbe1b07185a6eafaf1538bd46126864bdf1bd48bd105faa30cc0e9f3a865f"
   }
  }
 },
 "nbformat": 4,
 "nbformat_minor": 2
}
